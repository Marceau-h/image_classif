{
 "cells": [
  {
   "cell_type": "code",
   "execution_count": 8,
   "metadata": {
    "collapsed": true
   },
   "outputs": [
    {
     "name": "stdout",
     "output_type": "stream",
     "text": [
      "InceptionV3\n",
      "assault rifle  :  79.9398\n",
      "oxygen mask  :  10.6853\n",
      "military uniform  :  2.8969\n",
      "rifle  :  2.2575\n",
      "scuba diver  :  1.9584\n",
      "bulletproof vest  :  0.8452\n",
      "gasmask  :  0.717\n",
      "ski mask  :  0.315\n",
      "crash helmet  :  0.2741\n",
      "projectile  :  0.0183\n",
      "\n",
      "------------------------------\n",
      "\n",
      "ResNet50\n",
      "assault rifle  :  22.8385\n",
      "rifle  :  12.7238\n",
      "oxygen mask  :  10.8674\n",
      "scuba diver  :  10.0531\n",
      "bulletproof vest  :  9.6161\n",
      "military uniform  :  9.3157\n",
      "gasmask  :  4.5797\n",
      "tripod  :  1.5767\n",
      "crash helmet  :  1.1103\n",
      "ski mask  :  0.9498\n",
      "\n",
      "------------------------------\n",
      "\n",
      "DenseNet121\n",
      "assault rifle  :  37.9547\n",
      "rifle  :  17.0718\n",
      "bulletproof vest  :  10.0775\n",
      "oxygen mask  :  8.9395\n",
      "scuba diver  :  6.9126\n",
      "crash helmet  :  4.9752\n",
      "gasmask  :  1.7205\n",
      "ski mask  :  1.6797\n",
      "military uniform  :  1.4677\n",
      "stretcher  :  0.9042\n",
      "\n",
      "------------------------------\n",
      "\n",
      "MobileNetV2\n",
      "football helmet  :  28.2109\n",
      "assault rifle  :  24.9256\n",
      "bulletproof vest  :  12.3961\n",
      "rifle  :  8.2996\n",
      "crash helmet  :  6.3851\n",
      "military uniform  :  4.4327\n",
      "go-kart  :  4.0556\n",
      "revolver  :  1.1055\n",
      "scuba diver  :  0.8434\n",
      "oxygen mask  :  0.7852\n",
      "\n",
      "------------------------------\n",
      "\n"
     ]
    }
   ],
   "source": [
    "from imageai.Classification import ImageClassification\n",
    "import os\n",
    "\n",
    "FICHIER_A_TESTER = \"a.jpg\"\n",
    "\n",
    "execution_path = os.getcwd()\n",
    "\n",
    "models = [\n",
    "    (ImageClassification(), \"setModelTypeAsInceptionV3\", \"inception_v3_google-1a9a5a14.pth\"),\n",
    "    (ImageClassification(), \"setModelTypeAsResNet50\",  \"resnet50-19c8e357.pth\"),\n",
    "    (ImageClassification(), \"setModelTypeAsDenseNet121\", \"densenet121-a639ec97.pth\"),\n",
    "    (ImageClassification(), \"setModelTypeAsMobileNetV2\", \"mobilenet_v2-b0353104.pth\"),\n",
    "    ]\n",
    "\n",
    "for model, model_type, model_path in models:\n",
    "    print(model_type.split(\"As\")[1])\n",
    "    model.__getattribute__(model_type)()\n",
    "    model.setModelPath(os.path.join(execution_path, \"modeles/classif\", model_path))\n",
    "    model.loadModel()\n",
    "\n",
    "    predictions, probabilities = model.classifyImage(os.path.join(execution_path, FICHIER_A_TESTER), result_count=10)\n",
    "    for eachPrediction, eachProbability in zip(predictions, probabilities):\n",
    "        print(eachPrediction , \" : \" , eachProbability)\n",
    "\n",
    "    print(\"\\n------------------------------\\n\")"
   ]
  }
 ],
 "metadata": {
  "kernelspec": {
   "display_name": "Python 3",
   "language": "python",
   "name": "python3"
  },
  "language_info": {
   "codemirror_mode": {
    "name": "ipython",
    "version": 2
   },
   "file_extension": ".py",
   "mimetype": "text/x-python",
   "name": "python",
   "nbconvert_exporter": "python",
   "pygments_lexer": "ipython2",
   "version": "2.7.6"
  }
 },
 "nbformat": 4,
 "nbformat_minor": 0
}
